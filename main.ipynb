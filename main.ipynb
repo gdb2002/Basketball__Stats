{
 "cells": [
  {
   "cell_type": "code",
   "execution_count": 209,
   "metadata": {},
   "outputs": [],
   "source": [
    "import pandas as pd\n",
    "import numpy as np\n",
    "import seaborn as sns\n",
    "import matplotlib.pyplot as plt\n",
    "import data_clean\n",
    "from datetime import date"
   ]
  },
  {
   "cell_type": "code",
   "execution_count": 210,
   "metadata": {},
   "outputs": [],
   "source": [
    "player_stats = pd.read_csv(\"player_combined.csv\", sep = '\\t')\n",
    "game_stats = pd.read_csv(\"./game_combined.csv\", sep = '\\t')\n"
   ]
  },
  {
   "cell_type": "markdown",
   "metadata": {},
   "source": [
    "Function to split stats and to return the percentage in a list"
   ]
  },
  {
   "cell_type": "code",
   "execution_count": 211,
   "metadata": {},
   "outputs": [],
   "source": [
    "def get_percent(lst: np.array, divider = '-'):\n",
    "    lst = [char.split(sep = divider) for char in lst]\n",
    "    percent_arr = []\n",
    "    for  made, attempted in lst:\n",
    "        if(int(made) == 0 and int(attempted) == 0):\n",
    "            percent_arr.append(0)\n",
    "        else:\n",
    "            percent_arr.append(int(made)/int(attempted))\n",
    "            \n",
    "    return  percent_arr"
   ]
  },
  {
   "cell_type": "code",
   "execution_count": 212,
   "metadata": {},
   "outputs": [],
   "source": [
    "def str_to_date(string:list):\n",
    "    \"\"\"takes a list of strings in the month/day/year format and converts it to date\"\"\"\n",
    "    new_list = []\n",
    "    \n",
    "    for day in string:\n",
    "        bank = day.split(sep = '/')\n",
    "        bank = [int(i)for i in bank]\n",
    "        bank[2]= bank[2] + 2000\n",
    "        new_day = date(bank[2],bank[0],bank[1])\n",
    "        new_list.append(new_day)\n",
    "        \n",
    "    return new_list\n",
    "        "
   ]
  },
  {
   "cell_type": "markdown",
   "metadata": {},
   "source": [
    "Cleaning up the game stats to only be the games that Baird played during her career"
   ]
  },
  {
   "cell_type": "code",
   "execution_count": 213,
   "metadata": {},
   "outputs": [],
   "source": [
    "dates_player = player_stats[\"Date\"].to_numpy()\n",
    "dates_game = game_stats[\"Date\"].to_numpy()\n",
    "correct_dates = []\n",
    "\n",
    "for i in dates_game:\n",
    "    correct_dates.append(i in dates_player)\n",
    "correct_dates\n",
    "\n",
    "game_stats[\"correct dates\"] = correct_dates"
   ]
  },
  {
   "cell_type": "code",
   "execution_count": 214,
   "metadata": {},
   "outputs": [],
   "source": [
    "game_updated = game_stats[game_stats[\"correct dates\"]== True]\n",
    "game_updated = game_updated[[\"Date\", \"Score\", \"W/L\"]]"
   ]
  },
  {
   "cell_type": "markdown",
   "metadata": {},
   "source": [
    "Sorting and Combining the Data from game_updated & player_stats\n",
    "#####\n"
   ]
  },
  {
   "cell_type": "code",
   "execution_count": 215,
   "metadata": {},
   "outputs": [],
   "source": [
    "full_stats = game_updated.merge(player_stats)"
   ]
  },
  {
   "cell_type": "code",
   "execution_count": 216,
   "metadata": {},
   "outputs": [
    {
     "data": {
      "text/html": [
       "<div>\n",
       "<style scoped>\n",
       "    .dataframe tbody tr th:only-of-type {\n",
       "        vertical-align: middle;\n",
       "    }\n",
       "\n",
       "    .dataframe tbody tr th {\n",
       "        vertical-align: top;\n",
       "    }\n",
       "\n",
       "    .dataframe thead th {\n",
       "        text-align: right;\n",
       "    }\n",
       "</style>\n",
       "<table border=\"1\" class=\"dataframe\">\n",
       "  <thead>\n",
       "    <tr style=\"text-align: right;\">\n",
       "      <th></th>\n",
       "      <th>Date</th>\n",
       "      <th>Score</th>\n",
       "      <th>W/L</th>\n",
       "      <th>Opponent</th>\n",
       "      <th>PTS</th>\n",
       "      <th>MIN</th>\n",
       "      <th>FGM-FGA</th>\n",
       "      <th>3PM-3PA</th>\n",
       "      <th>FTM-FTA</th>\n",
       "      <th>REB</th>\n",
       "      <th>AST</th>\n",
       "      <th>BLK</th>\n",
       "      <th>STL</th>\n",
       "      <th>TO</th>\n",
       "      <th>PF</th>\n",
       "      <th>Year</th>\n",
       "    </tr>\n",
       "  </thead>\n",
       "  <tbody>\n",
       "  </tbody>\n",
       "</table>\n",
       "</div>"
      ],
      "text/plain": [
       "Empty DataFrame\n",
       "Columns: [Date, Score, W/L, Opponent, PTS, MIN, FGM-FGA, 3PM-3PA, FTM-FTA, REB, AST, BLK, STL, TO, PF, Year]\n",
       "Index: []"
      ]
     },
     "execution_count": 216,
     "metadata": {},
     "output_type": "execute_result"
    }
   ],
   "source": [
    "full_stats.head(0) #grab names"
   ]
  },
  {
   "cell_type": "code",
   "execution_count": 217,
   "metadata": {},
   "outputs": [],
   "source": [
    "full_stats[\"Date\"] = str_to_date(full_stats[\"Date\"].to_numpy())\n"
   ]
  },
  {
   "cell_type": "code",
   "execution_count": 223,
   "metadata": {},
   "outputs": [],
   "source": [
    "full_stats[\"3%\"] = get_percent(full_stats[\"3PM-3PA\"].to_numpy(),)\n",
    "full_stats[\"fg%\"] = get_percent(full_stats[\"FGM-FGA\"].to_numpy(),)\n",
    "full_stats[\"ft%\"] = get_percent(full_stats[\"FTM-FTA\"].to_numpy(),)\n",
    "full_stats.sort_values(by=[\"Date\"])\n",
    "full_stats;"
   ]
  },
  {
   "cell_type": "markdown",
   "metadata": {},
   "source": [
    "Basic Graphing"
   ]
  },
  {
   "cell_type": "code",
   "execution_count": null,
   "metadata": {},
   "outputs": [
    {
     "data": {
      "text/html": [
       "<div>\n",
       "<style scoped>\n",
       "    .dataframe tbody tr th:only-of-type {\n",
       "        vertical-align: middle;\n",
       "    }\n",
       "\n",
       "    .dataframe tbody tr th {\n",
       "        vertical-align: top;\n",
       "    }\n",
       "\n",
       "    .dataframe thead th {\n",
       "        text-align: right;\n",
       "    }\n",
       "</style>\n",
       "<table border=\"1\" class=\"dataframe\">\n",
       "  <thead>\n",
       "    <tr style=\"text-align: right;\">\n",
       "      <th></th>\n",
       "      <th>Date</th>\n",
       "      <th>Score</th>\n",
       "      <th>W/L</th>\n",
       "      <th>Opponent</th>\n",
       "      <th>PTS</th>\n",
       "      <th>MIN</th>\n",
       "      <th>FGM-FGA</th>\n",
       "      <th>3PM-3PA</th>\n",
       "      <th>FTM-FTA</th>\n",
       "      <th>REB</th>\n",
       "      <th>AST</th>\n",
       "      <th>BLK</th>\n",
       "      <th>STL</th>\n",
       "      <th>TO</th>\n",
       "      <th>PF</th>\n",
       "      <th>Year</th>\n",
       "      <th>3%</th>\n",
       "      <th>fg%</th>\n",
       "      <th>ft%</th>\n",
       "    </tr>\n",
       "  </thead>\n",
       "  <tbody>\n",
       "  </tbody>\n",
       "</table>\n",
       "</div>"
      ],
      "text/plain": [
       "Empty DataFrame\n",
       "Columns: [Date, Score, W/L, Opponent, PTS, MIN, FGM-FGA, 3PM-3PA, FTM-FTA, REB, AST, BLK, STL, TO, PF, Year, 3%, fg%, ft%]\n",
       "Index: []"
      ]
     },
     "execution_count": 200,
     "metadata": {},
     "output_type": "execute_result"
    }
   ],
   "source": [
    "full_stats.head(0)"
   ]
  },
  {
   "cell_type": "code",
   "execution_count": 227,
   "metadata": {},
   "outputs": [],
   "source": [
    "senior = full_stats[full_stats[\"Year\"] == \"Senior\"]\n",
    "junior = full_stats[full_stats[\"Year\"] == \"Junior\"]\n",
    "freshman = full_stats[full_stats[\"Year\"] == \"Freshman\"]\n",
    "sophmore = full_stats[full_stats[\"Year\"] == \"Sophmore\"]"
   ]
  },
  {
   "cell_type": "markdown",
   "metadata": {},
   "source": [
    "Disregard below"
   ]
  },
  {
   "cell_type": "code",
   "execution_count": 240,
   "metadata": {},
   "outputs": [
    {
     "data": {
      "text/plain": [
       "<matplotlib.legend.Legend at 0x1339d0210>"
      ]
     },
     "execution_count": 240,
     "metadata": {},
     "output_type": "execute_result"
    },
    {
     "data": {
      "image/png": "[encoded data removed]",
      "text/plain": [
       "<Figure size 640x480 with 1 Axes>"
      ]
     },
     "metadata": {},
     "output_type": "display_data"
    }
   ],
   "source": [
    "sns.scatterplot(data=senior, x = \"Date\", y = \"PTS\", size = \"MIN\", hue = \"W/L\")\n",
    "#sns.lineplot(data=senior[senior[\"W/L\"] == 'L'], x = \"Date\", y = \"PTS\", color = \"r\")\n",
    "#sns.lineplot(data=senior[senior[\"W/L\"] == 'W'], x = \"Date\", y = \"PTS\", color = 'g')\n",
    "\n",
    "plt.xticks(rotation = 90)\n",
    "plt.legend(loc='center left', bbox_to_anchor=(1, 0.5))\n"
   ]
  },
  {
   "cell_type": "code",
   "execution_count": null,
   "metadata": {},
   "outputs": [],
   "source": []
  },
  {
   "cell_type": "code",
   "execution_count": null,
   "metadata": {},
   "outputs": [],
   "source": []
  }
 ],
 "metadata": {
  "kernelspec": {
   "display_name": "Python 3",
   "language": "python",
   "name": "python3"
  },
  "language_info": {
   "codemirror_mode": {
    "name": "ipython",
    "version": 3
   },
   "file_extension": ".py",
   "mimetype": "text/x-python",
   "name": "python",
   "nbconvert_exporter": "python",
   "pygments_lexer": "ipython3",
   "version": "3.11.1"
  }
 },
 "nbformat": 4,
 "nbformat_minor": 2
}
