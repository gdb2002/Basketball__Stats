{
 "cells": [
  {
   "cell_type": "code",
   "execution_count": 34,
   "metadata": {},
   "outputs": [],
   "source": [
    "import pandas as pd\n",
    "import numpy as np\n",
    "import seaborn as sns\n",
    "import matplotlib.pyplot as plt\n",
    "import data_clean"
   ]
  },
  {
   "cell_type": "code",
   "execution_count": 35,
   "metadata": {},
   "outputs": [],
   "source": [
    "base = pd.read_csv(\"./Stats/Full_stats.csv\", sep = '\\t')\n",
    "base;"
   ]
  },
  {
   "cell_type": "code",
   "execution_count": 54,
   "metadata": {},
   "outputs": [],
   "source": [
    "def get_percent(lst: np.array, divider = '-'):\n",
    "    lst = [char.split(sep = divider) for char in lst]\n",
    "    percent_arr = []\n",
    "    for  made, attempted in lst:\n",
    "        if(int(made) == 0 and int(attempted) == 0):\n",
    "            percent_arr.append(0)\n",
    "        else:\n",
    "            percent_arr.append(int(made)/int(attempted))\n",
    "            \n",
    "    return  percent_arr"
   ]
  }
 ],
 "metadata": {
  "kernelspec": {
   "display_name": "Python 3",
   "language": "python",
   "name": "python3"
  },
  "language_info": {
   "codemirror_mode": {
    "name": "ipython",
    "version": 3
   },
   "file_extension": ".py",
   "mimetype": "text/x-python",
   "name": "python",
   "nbconvert_exporter": "python",
   "pygments_lexer": "ipython3",
   "version": "3.11.1"
  }
 },
 "nbformat": 4,
 "nbformat_minor": 2
}
