{
 "cells": [
  {
   "cell_type": "code",
   "execution_count": 34,
   "metadata": {},
   "outputs": [],
   "source": [
    "import pandas as pd\n",
    "import numpy as np\n",
    "import seaborn as sns\n",
    "import matplotlib.pyplot as plt\n",
    "import data_clean"
   ]
  },
  {
   "cell_type": "code",
   "execution_count": 35,
   "metadata": {},
   "outputs": [],
   "source": [
    "base = pd.read_csv(\"./Stats/Full_stats.csv\", sep = '\\t')\n",
    "base;"
   ]
  },
  {
   "cell_type": "markdown",
   "metadata": {},
   "source": [
    "Function to split stats and to return the percentage in a list"
   ]
  },
  {
   "cell_type": "code",
   "execution_count": 56,
   "metadata": {},
   "outputs": [],
   "source": [
    "def get_percent(lst: np.array, divider = '-'):\n",
    "    lst = [char.split(sep = divider) for char in lst]\n",
    "    percent_arr = []\n",
    "    for  made, attempted in lst:\n",
    "        if(int(made) == 0 and int(attempted) == 0):\n",
    "            percent_arr.append(0)\n",
    "        else:\n",
    "            percent_arr.append(int(made)/int(attempted))\n",
    "            \n",
    "    return  percent_arr"
   ]
  },
  {
   "cell_type": "code",
   "execution_count": 66,
   "metadata": {},
   "outputs": [],
   "source": [
    "Percentages = {\"3%\": get_percent(base[\"3PM-3PA\"]), \"FG%\": get_percent(base[\"FGM-FGA\"])}\n",
    "#Percent = pd.DataFrame(Percentages)"
   ]
  },
  {
   "cell_type": "code",
   "execution_count": 68,
   "metadata": {},
   "outputs": [],
   "source": [
    "table = base\n",
    "for key in Percentages:\n",
    "    table[key] = Percentages[key]\n",
    "    \n",
    "table;"
   ]
  },
  {
   "cell_type": "code",
   "execution_count": 71,
   "metadata": {},
   "outputs": [
    {
     "data": {
      "text/plain": [
       "0.42376744870442357"
      ]
     },
     "execution_count": 71,
     "metadata": {},
     "output_type": "execute_result"
    }
   ],
   "source": [
    "np.average(table[\"FG%\"])"
   ]
  },
  {
   "cell_type": "code",
   "execution_count": null,
   "metadata": {},
   "outputs": [],
   "source": []
  }
 ],
 "metadata": {
  "kernelspec": {
   "display_name": "Python 3",
   "language": "python",
   "name": "python3"
  },
  "language_info": {
   "codemirror_mode": {
    "name": "ipython",
    "version": 3
   },
   "file_extension": ".py",
   "mimetype": "text/x-python",
   "name": "python",
   "nbconvert_exporter": "python",
   "pygments_lexer": "ipython3",
   "version": "3.11.1"
  }
 },
 "nbformat": 4,
 "nbformat_minor": 2
}
